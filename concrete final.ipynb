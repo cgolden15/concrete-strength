{
 "cells": [
  {
   "cell_type": "markdown",
   "id": "fa77853d-6cb1-4844-977a-e06d50238fac",
   "metadata": {
    "tags": []
   },
   "source": [
    "*May need to install xlrd to run. To do this, add a code block, paste and run\n",
    "``pip install xlrd``"
   ]
  },
  {
   "cell_type": "markdown",
   "id": "c7800de6-fd1e-46ff-bc85-eddce6dc8b9c",
   "metadata": {},
   "source": [
    "## Create DataFrame from dataset "
   ]
  },
  {
   "cell_type": "code",
   "execution_count": 2,
   "id": "0284137a-41af-46e7-96b9-2d1e5c167446",
   "metadata": {
    "tags": []
   },
   "outputs": [
    {
     "data": {
      "text/html": [
       "<div>\n",
       "<style scoped>\n",
       "    .dataframe tbody tr th:only-of-type {\n",
       "        vertical-align: middle;\n",
       "    }\n",
       "\n",
       "    .dataframe tbody tr th {\n",
       "        vertical-align: top;\n",
       "    }\n",
       "\n",
       "    .dataframe thead th {\n",
       "        text-align: right;\n",
       "    }\n",
       "</style>\n",
       "<table border=\"1\" class=\"dataframe\">\n",
       "  <thead>\n",
       "    <tr style=\"text-align: right;\">\n",
       "      <th></th>\n",
       "      <th>Cement</th>\n",
       "      <th>BlastFurnaceSlag</th>\n",
       "      <th>FlyAsh</th>\n",
       "      <th>water</th>\n",
       "      <th>superplasticizer</th>\n",
       "      <th>coarseaggregate</th>\n",
       "      <th>FineAggregate</th>\n",
       "      <th>age</th>\n",
       "      <th>CC_Strength</th>\n",
       "    </tr>\n",
       "  </thead>\n",
       "  <tbody>\n",
       "    <tr>\n",
       "      <th>0</th>\n",
       "      <td>540.0</td>\n",
       "      <td>0.0</td>\n",
       "      <td>0.0</td>\n",
       "      <td>162.0</td>\n",
       "      <td>2.5</td>\n",
       "      <td>1040.0</td>\n",
       "      <td>676.0</td>\n",
       "      <td>28</td>\n",
       "      <td>79.986111</td>\n",
       "    </tr>\n",
       "    <tr>\n",
       "      <th>1</th>\n",
       "      <td>540.0</td>\n",
       "      <td>0.0</td>\n",
       "      <td>0.0</td>\n",
       "      <td>162.0</td>\n",
       "      <td>2.5</td>\n",
       "      <td>1055.0</td>\n",
       "      <td>676.0</td>\n",
       "      <td>28</td>\n",
       "      <td>61.887366</td>\n",
       "    </tr>\n",
       "    <tr>\n",
       "      <th>2</th>\n",
       "      <td>332.5</td>\n",
       "      <td>142.5</td>\n",
       "      <td>0.0</td>\n",
       "      <td>228.0</td>\n",
       "      <td>0.0</td>\n",
       "      <td>932.0</td>\n",
       "      <td>594.0</td>\n",
       "      <td>270</td>\n",
       "      <td>40.269535</td>\n",
       "    </tr>\n",
       "    <tr>\n",
       "      <th>3</th>\n",
       "      <td>332.5</td>\n",
       "      <td>142.5</td>\n",
       "      <td>0.0</td>\n",
       "      <td>228.0</td>\n",
       "      <td>0.0</td>\n",
       "      <td>932.0</td>\n",
       "      <td>594.0</td>\n",
       "      <td>365</td>\n",
       "      <td>41.052780</td>\n",
       "    </tr>\n",
       "    <tr>\n",
       "      <th>4</th>\n",
       "      <td>198.6</td>\n",
       "      <td>132.4</td>\n",
       "      <td>0.0</td>\n",
       "      <td>192.0</td>\n",
       "      <td>0.0</td>\n",
       "      <td>978.4</td>\n",
       "      <td>825.5</td>\n",
       "      <td>360</td>\n",
       "      <td>44.296075</td>\n",
       "    </tr>\n",
       "  </tbody>\n",
       "</table>\n",
       "</div>"
      ],
      "text/plain": [
       "   Cement  BlastFurnaceSlag  FlyAsh  water  superplasticizer  coarseaggregate  \\\n",
       "0   540.0               0.0     0.0  162.0               2.5           1040.0   \n",
       "1   540.0               0.0     0.0  162.0               2.5           1055.0   \n",
       "2   332.5             142.5     0.0  228.0               0.0            932.0   \n",
       "3   332.5             142.5     0.0  228.0               0.0            932.0   \n",
       "4   198.6             132.4     0.0  192.0               0.0            978.4   \n",
       "\n",
       "   FineAggregate  age  CC_Strength  \n",
       "0          676.0   28    79.986111  \n",
       "1          676.0   28    61.887366  \n",
       "2          594.0  270    40.269535  \n",
       "3          594.0  365    41.052780  \n",
       "4          825.5  360    44.296075  "
      ]
     },
     "execution_count": 2,
     "metadata": {},
     "output_type": "execute_result"
    }
   ],
   "source": [
    "#excel spreadsheet in database form\n",
    "import matplotlib.pyplot\n",
    "import numpy as np\n",
    "import math\n",
    "import pandas as pd\n",
    "import matplotlib.pyplot as plt\n",
    "import seaborn as sns\n",
    "#Download the file and read it into a dataframe\n",
    "readfile = pd.read_excel('ConcreteData.xls')\n",
    "# print the contents of readfilecsv\n",
    "df = pd.DataFrame (readfile)\n",
    "# Reading a .csv file\n",
    "#giving the dotofile columns meaningful names for our database\n",
    "df.columns = ['Cement','BlastFurnaceSlag','FlyAsh','water','superplasticizer','coarseaggregate','FineAggregate','age','CC_Strength']\n",
    "df.head ()"
   ]
  },
  {
   "cell_type": "markdown",
   "id": "c6e13ee9-7d4f-469f-a53c-53ac252141f9",
   "metadata": {},
   "source": [
    "## Perform linear regression modeling from data set"
   ]
  },
  {
   "cell_type": "code",
   "execution_count": 3,
   "id": "5413695d-3478-4885-9598-be67df8b7757",
   "metadata": {
    "tags": []
   },
   "outputs": [
    {
     "name": "stdout",
     "output_type": "stream",
     "text": [
      "Intercept: \n",
      " -23.16375581107919\n",
      "Coefficients:\n",
      " [ 0.11978526  0.10384725  0.08794308 -0.1502979   0.29068694  0.01803018\n",
      "  0.02015446  0.11422562]\n",
      "                            OLS Regression Results                            \n",
      "==============================================================================\n",
      "Dep. Variable:            CC_Strength   R-squared:                       0.615\n",
      "Model:                            OLS   Adj. R-squared:                  0.612\n",
      "Method:                 Least Squares   F-statistic:                     204.3\n",
      "Date:                Tue, 12 Dec 2023   Prob (F-statistic):          6.76e-206\n",
      "Time:                        18:59:46   Log-Likelihood:                -3869.0\n",
      "No. Observations:                1030   AIC:                             7756.\n",
      "Df Residuals:                    1021   BIC:                             7800.\n",
      "Df Model:                           8                                         \n",
      "Covariance Type:            nonrobust                                         \n",
      "====================================================================================\n",
      "                       coef    std err          t      P>|t|      [0.025      0.975]\n",
      "------------------------------------------------------------------------------------\n",
      "const              -23.1638     26.588     -0.871      0.384     -75.338      29.010\n",
      "Cement               0.1198      0.008     14.110      0.000       0.103       0.136\n",
      "BlastFurnaceSlag     0.1038      0.010     10.245      0.000       0.084       0.124\n",
      "FlyAsh               0.0879      0.013      6.988      0.000       0.063       0.113\n",
      "water               -0.1503      0.040     -3.741      0.000      -0.229      -0.071\n",
      "superplasticizer     0.2907      0.093      3.110      0.002       0.107       0.474\n",
      "coarseaggregate      0.0180      0.009      1.919      0.055      -0.000       0.036\n",
      "FineAggregate        0.0202      0.011      1.883      0.060      -0.001       0.041\n",
      "age                  0.1142      0.005     21.046      0.000       0.104       0.125\n",
      "==============================================================================\n",
      "Omnibus:                        5.379   Durbin-Watson:                   1.281\n",
      "Prob(Omnibus):                  0.068   Jarque-Bera (JB):                5.305\n",
      "Skew:                          -0.174   Prob(JB):                       0.0705\n",
      "Kurtosis:                       3.045   Cond. No.                     1.06e+05\n",
      "==============================================================================\n",
      "\n",
      "Notes:\n",
      "[1] Standard Errors assume that the covariance matrix of the errors is correctly specified.\n",
      "[2] The condition number is large, 1.06e+05. This might indicate that there are\n",
      "strong multicollinearity or other numerical problems.\n"
     ]
    }
   ],
   "source": [
    "from sklearn import linear_model\n",
    "import statsmodels.api as sm\n",
    "# Implementing Possible data Model Structures\n",
    "#Example 1) Linear\n",
    "x = df[['Cement', 'BlastFurnaceSlag', 'FlyAsh', 'water', 'superplasticizer', 'coarseaggregate', 'FineAggregate', 'age' ]]\n",
    "y = df['CC_Strength' ]\n",
    "# with slearn\n",
    "regr = linear_model.LinearRegression()\n",
    "regr.fit(x, y)\n",
    "print ('Intercept: \\n', regr. intercept_)\n",
    "print ('Coefficients:\\n', regr.coef_)\n",
    "# prediction with sklearn\n",
    "# with statsmodels\n",
    "x = sm. add_constant (x) # adding a constant\n",
    "#Ordinary Least squares( determines line of best fit)\n",
    "model= sm.OLS(y, x) .fit ()\n",
    "predictions = model.predict (x)\n",
    "print_model = model. summary ()\n",
    "print (print_model)"
   ]
  },
  {
   "cell_type": "markdown",
   "id": "d7e67017-228d-4165-9678-454fd6fbc78f",
   "metadata": {
    "tags": []
   },
   "source": [
    "## Split dataset into training and testing sets"
   ]
  },
  {
   "cell_type": "code",
   "execution_count": 4,
   "id": "d93f6752-cce1-4f64-95f8-0fd76e608397",
   "metadata": {
    "tags": []
   },
   "outputs": [],
   "source": [
    "# Import Libs\n",
    "from sklearn.model_selection import train_test_split\n",
    "from sklearn.metrics import mean_squared_error, mean_absolute_error, r2_score\n",
    "\n",
    "data = df\n",
    "\n",
    "# select all rows and all columns except the last one\n",
    "x= data.iloc[:,:-1]\n",
    "# select all rows and all columns\n",
    "y = data.iloc[:]\n",
    "\n",
    "# Train-Test Split(read more below)\n",
    "from sklearn.model_selection import train_test_split\n",
    "x_train,x_test,y_train,y_test = train_test_split(x,y,test_size = 0.2,random_state = 2)"
   ]
  },
  {
   "cell_type": "markdown",
   "id": "5f621225-5b60-415c-ba12-c408fc27eb00",
   "metadata": {},
   "source": [
    "^  typical setup for preparing data for a machine learning model, where features (x) and the target variable (y) are selected, and the dataset is split into training and testing sets"
   ]
  },
  {
   "cell_type": "markdown",
   "id": "46361a16-b187-494e-aed0-5b8ca57de99f",
   "metadata": {},
   "source": [
    "## Create DF and DF Subsets"
   ]
  },
  {
   "cell_type": "code",
   "execution_count": 5,
   "id": "9d787569-d87b-4531-a787-ad325de219d4",
   "metadata": {
    "tags": []
   },
   "outputs": [
    {
     "data": {
      "text/html": [
       "<div>\n",
       "<style scoped>\n",
       "    .dataframe tbody tr th:only-of-type {\n",
       "        vertical-align: middle;\n",
       "    }\n",
       "\n",
       "    .dataframe tbody tr th {\n",
       "        vertical-align: top;\n",
       "    }\n",
       "\n",
       "    .dataframe thead th {\n",
       "        text-align: right;\n",
       "    }\n",
       "</style>\n",
       "<table border=\"1\" class=\"dataframe\">\n",
       "  <thead>\n",
       "    <tr style=\"text-align: right;\">\n",
       "      <th></th>\n",
       "      <th>Cement</th>\n",
       "      <th>BlastFurnaceSlag</th>\n",
       "      <th>FlyAsh</th>\n",
       "      <th>coarseaggregate</th>\n",
       "      <th>FineAggregate</th>\n",
       "      <th>water</th>\n",
       "      <th>superplasticizer</th>\n",
       "      <th>age</th>\n",
       "    </tr>\n",
       "  </thead>\n",
       "  <tbody>\n",
       "    <tr>\n",
       "      <th>0</th>\n",
       "      <td>175.0</td>\n",
       "      <td>13.0</td>\n",
       "      <td>172.0</td>\n",
       "      <td>1000.0</td>\n",
       "      <td>856.0</td>\n",
       "      <td>156.0</td>\n",
       "      <td>4.0</td>\n",
       "      <td>3.0</td>\n",
       "    </tr>\n",
       "  </tbody>\n",
       "</table>\n",
       "</div>"
      ],
      "text/plain": [
       "   Cement  BlastFurnaceSlag  FlyAsh  coarseaggregate  FineAggregate  water  \\\n",
       "0   175.0              13.0   172.0           1000.0          856.0  156.0   \n",
       "\n",
       "   superplasticizer  age  \n",
       "0               4.0  3.0  "
      ]
     },
     "execution_count": 5,
     "metadata": {},
     "output_type": "execute_result"
    }
   ],
   "source": [
    "# Create DataFrame\n",
    "d = {'Cement':[175.0,320.0,320.0,320.0,530.0],'BlastFurnaceSlag':[13.0,0.0,0.0,73.0,359.0],'FlyAsh':[172.0,0.0,126.0,54.0,200.0],'coarseaggregate':[1000.0,970.0,860.0,972.0,1145.0],'FineAggregate':[856.0,850.0,856.0,773.0,992.0],'water':[156.0,192.0,209.0,181.0,247.0],'superplasticizer':[4.0,0.0,5.7,6.0,32.0],'age':[3.0,7.0,28.0,45.0,365.0]}\n",
    "df = pd.DataFrame(data=d)\n",
    "\n",
    "#df.head()\n",
    "\n",
    "# Check for missing values\n",
    "df.isna().sum()\n",
    "\n",
    "# Create DataFrame Subsets\n",
    "df_0= df.iloc[0:1:]\n",
    "df_1= df.iloc[1:2:]\n",
    "df_2= df.iloc[2:3:]\n",
    "df_3= df.iloc[3:4:]\n",
    "df_4= df.iloc[4:5:]\n",
    "\n",
    "# display the first few rows of DataFrame subset df_0\n",
    "df_0.head()"
   ]
  },
  {
   "cell_type": "code",
   "execution_count": 6,
   "id": "41d07da9-e865-4dae-8183-f79d7afa3858",
   "metadata": {
    "tags": []
   },
   "outputs": [
    {
     "data": {
      "text/plain": [
       "Cement              0\n",
       "BlastFurnaceSlag    0\n",
       "FlyAsh              0\n",
       "coarseaggregate     0\n",
       "FineAggregate       0\n",
       "water               0\n",
       "superplasticizer    0\n",
       "age                 0\n",
       "dtype: int64"
      ]
     },
     "execution_count": 6,
     "metadata": {},
     "output_type": "execute_result"
    }
   ],
   "source": [
    "df.isna().sum() #check for missing values in parent DataFrame"
   ]
  },
  {
   "cell_type": "markdown",
   "id": "d7b559fc-0435-464a-ba4d-118d41dbbcf0",
   "metadata": {},
   "source": [
    "# Model/DataFrame 0"
   ]
  },
  {
   "cell_type": "markdown",
   "id": "89cbfb49-fa7b-445d-b003-c1c28828f9bd",
   "metadata": {},
   "source": [
    "## Run RFR Model 0 then evaluate and show its predictions against actual data"
   ]
  },
  {
   "cell_type": "code",
   "execution_count": 7,
   "id": "ecfb01b5-6a29-4510-8816-71c1f9175daf",
   "metadata": {
    "tags": []
   },
   "outputs": [
    {
     "name": "stdout",
     "output_type": "stream",
     "text": [
      "model\t\t\t\t RMSE \t\t MSE \t\t MAE \t\t R2\n",
      "RandomForestRegressor \t 9.46 \t\t 89.55 \t\t 4.63 \t\t 0.93\n"
     ]
    },
    {
     "data": {
      "image/png": "[encoded data removed]",
      "text/plain": [
       "<Figure size 640x480 with 1 Axes>"
      ]
     },
     "metadata": {},
     "output_type": "display_data"
    }
   ],
   "source": [
    "# Import libraries\n",
    "from sklearn.ensemble import RandomForestRegressor\n",
    "\n",
    "# Create a RandomForestRegressor model with 100 estimators\n",
    "rfr0 = RandomForestRegressor(n_estimators=100)\n",
    "\n",
    "# Train the model on the training data\n",
    "rfr0.fit(x_train, y_train)\n",
    "\n",
    "# Use the trained model to predict y values for the test set\n",
    "y_pred_rfr0 = rfr0.predict(x_test)\n",
    "\n",
    "# Print evaluation metrics for the model\n",
    "print(\"model\\t\\t\\t\\t RMSE \\t\\t MSE \\t\\t MAE \\t\\t R2\")\n",
    "print(\"\"\"RandomForestRegressor \\t {:.2f} \\t\\t {:.2f} \\t\\t {:.2f} \\t\\t {:.2f}\"\"\".format(\n",
    "    np.sqrt(mean_squared_error(y_test, y_pred_rfr0)), mean_squared_error(y_test, y_pred_rfr0),\n",
    "    mean_absolute_error(y_test, y_pred_rfr0), r2_score(y_test, y_pred_rfr0)))\n",
    "\n",
    "# Create a scatter plot comparing true and predicted values\n",
    "plt.scatter(y_test, y_pred_rfr0)\n",
    "plt.plot([y_test.min(), y_test.max()], [y_test.min(), y_test.max()], 'k--', lw=2)\n",
    "plt.xlabel(\"predicted\")\n",
    "plt.ylabel(\"true\")\n",
    "plt.title(\"Random Forest Regressor\")\n",
    "\n",
    "# Display the plot\n",
    "plt.show()"
   ]
  },
  {
   "cell_type": "markdown",
   "id": "1becaee1-6649-4d7b-aebe-5fbf823cbd1a",
   "metadata": {},
   "source": [
    "## OLS Model for df_0"
   ]
  },
  {
   "cell_type": "code",
   "execution_count": 8,
   "id": "8c264b81-03d4-4fc0-94cc-9e2aba6957ec",
   "metadata": {},
   "outputs": [
    {
     "name": "stdout",
     "output_type": "stream",
     "text": [
      "Intercept\" \n",
      " 175.0\n",
      "Coefficiens: \n",
      " [0. 0. 0. 0. 0. 0. 0. 0.]\n",
      "                            OLS Regression Results                            \n",
      "==============================================================================\n",
      "Dep. Variable:            CC_Strength   R-squared:                       0.615\n",
      "Model:                            OLS   Adj. R-squared:                  0.612\n",
      "Method:                 Least Squares   F-statistic:                     204.3\n",
      "Date:                Tue, 12 Dec 2023   Prob (F-statistic):          6.76e-206\n",
      "Time:                        18:59:46   Log-Likelihood:                -3869.0\n",
      "No. Observations:                1030   AIC:                             7756.\n",
      "Df Residuals:                    1021   BIC:                             7800.\n",
      "Df Model:                           8                                         \n",
      "Covariance Type:            nonrobust                                         \n",
      "====================================================================================\n",
      "                       coef    std err          t      P>|t|      [0.025      0.975]\n",
      "------------------------------------------------------------------------------------\n",
      "const              -23.1638     26.588     -0.871      0.384     -75.338      29.010\n",
      "Cement               0.1198      0.008     14.110      0.000       0.103       0.136\n",
      "BlastFurnaceSlag     0.1038      0.010     10.245      0.000       0.084       0.124\n",
      "FlyAsh               0.0879      0.013      6.988      0.000       0.063       0.113\n",
      "water               -0.1503      0.040     -3.741      0.000      -0.229      -0.071\n",
      "superplasticizer     0.2907      0.093      3.110      0.002       0.107       0.474\n",
      "coarseaggregate      0.0180      0.009      1.919      0.055      -0.000       0.036\n",
      "FineAggregate        0.0202      0.011      1.883      0.060      -0.001       0.041\n",
      "age                  0.1142      0.005     21.046      0.000       0.104       0.125\n",
      "==============================================================================\n",
      "Omnibus:                        5.379   Durbin-Watson:                   1.281\n",
      "Prob(Omnibus):                  0.068   Jarque-Bera (JB):                5.305\n",
      "Skew:                          -0.174   Prob(JB):                       0.0705\n",
      "Kurtosis:                       3.045   Cond. No.                     1.06e+05\n",
      "==============================================================================\n",
      "\n",
      "Notes:\n",
      "[1] Standard Errors assume that the covariance matrix of the errors is correctly specified.\n",
      "[2] The condition number is large, 1.06e+05. This might indicate that there are\n",
      "strong multicollinearity or other numerical problems.\n"
     ]
    }
   ],
   "source": [
    "# Feature and Target Selection\n",
    "x1 = df_0[['BlastFurnaceSlag','Cement','FlyAsh','coarseaggregate','FineAggregate','water','superplasticizer','age']]\n",
    "y1 = df_0['Cement']\n",
    "\n",
    "# Linear Regression Model\n",
    "regr = linear_model.LinearRegression()\n",
    "regr.fit(x1,y1)\n",
    "\n",
    "# Print Intercept and Coefficients\n",
    "print('Intercept\" \\n',regr.intercept_)\n",
    "print('Coefficiens: \\n', regr.coef_)\n",
    "\n",
    "# Prediction\n",
    "new_water = 2.75\n",
    "new_age = 5.3\n",
    "x= sm.add_constant(x1)\n",
    "\n",
    "# Ordinary Least Squares (OLS) Model\n",
    "model0 = sm.OLS(y1,x1).fit()\n",
    "print(print_model)"
   ]
  },
  {
   "cell_type": "markdown",
   "id": "2d712106-f48d-4869-8157-e820ed15d072",
   "metadata": {},
   "source": [
    "# Model relationship between input features and concrete compressive strength using 3 functions"
   ]
  },
  {
   "cell_type": "code",
   "execution_count": 9,
   "id": "6a32fd3f-2474-4096-b554-6ea178fc4440",
   "metadata": {},
   "outputs": [
    {
     "name": "stdout",
     "output_type": "stream",
     "text": [
      "0    347.049\n",
      "dtype: float64 0    5.849466\n",
      "dtype: float64 0    700.507218\n",
      "dtype: float64\n"
     ]
    }
   ],
   "source": [
    "# Extract relevant columns from the DataFram\n",
    "Cement = df_0['Cement']\n",
    "BlastFurnaceSlag = df_0['BlastFurnaceSlag']\n",
    "FlyAsh = df_0['FlyAsh']\n",
    "coarseaggregate = df_0['coarseaggregate']\n",
    "FineAggregate = df_0['FineAggregate']\n",
    "water = df_0['water']\n",
    "superplasticizer = df_0['superplasticizer']\n",
    "age = df_0['age']\n",
    "\n",
    "# Set Coefficients\n",
    "b0=175.0\n",
    "b1=0.0013\n",
    "b2=0.0166\n",
    "b3=0.0963\n",
    "b4=0.0824\n",
    "b5=0.0150\n",
    "b6=0.0004\n",
    "b7=0.0003\n",
    "e1=b1\n",
    "e2=b2\n",
    "e3=b3\n",
    "e4=b4\n",
    "e5=b5\n",
    "e6=b6\n",
    "e7=b7\n",
    "\n",
    "# Import libs for calculations\n",
    "import numpy\n",
    "import math\n",
    "\n",
    "# Calculation of Concrete Strength:\n",
    "# Calculates compressive strength using a linear combination of coefficients and input features.\n",
    "CC_strength_df0 = b0+(b1*BlastFurnaceSlag)+(b2*FlyAsh)+(b3*coarseaggregate)+(b4*FineAggregate)+(b5*water)+(b6*superplasticizer)+(b7*age)\n",
    "\n",
    "# Calculation of Logarithmic Strength:\n",
    "log_strength_df0 = numpy.log(b0+b1*BlastFurnaceSlag+b2*FlyAsh+b3*coarseaggregate+b4*FineAggregate+b5*water+b6*superplasticizer+b7*age)\n",
    "\n",
    "# Calculation of Power Strength:\n",
    "power_strength_df0 = b0 * (BlastFurnaceSlag**e1*FlyAsh**e2*coarseaggregate**e3*FineAggregate**e4*water**e5*superplasticizer**e6*age**e7)\n",
    "\n",
    "\n",
    "print(CC_strength_df0,log_strength_df0,power_strength_df0)"
   ]
  },
  {
   "cell_type": "code",
   "execution_count": 10,
   "id": "6e667ec5-1cfd-4670-b8c2-89ca7fe8c605",
   "metadata": {},
   "outputs": [],
   "source": [
    "#df_1.head() #display the first few rows of the DataFrame"
   ]
  },
  {
   "cell_type": "markdown",
   "id": "7db61c5a-e899-415f-837c-3d99c8243a39",
   "metadata": {},
   "source": [
    "# Dataframe/Model 1\n",
    "* No comments because its exactly the same as the code for df0, just with df2 values "
   ]
  },
  {
   "cell_type": "markdown",
   "id": "d4fd9f47-37b6-46a9-9112-b32031156571",
   "metadata": {},
   "source": [
    "## Run RFR then evaluate and show its predictions against actual data"
   ]
  },
  {
   "cell_type": "code",
   "execution_count": 11,
   "id": "b809308e-34d8-445e-9716-983bef7a666d",
   "metadata": {},
   "outputs": [
    {
     "name": "stdout",
     "output_type": "stream",
     "text": [
      "model\t\t\t\t RMSE \t\t MSE \t\t MAE \t\t R2\n",
      "RandomForestRegressor \t 9.69 \t\t 93.89 \t\t 4.77 \t\t 0.93\n"
     ]
    },
    {
     "data": {
      "image/png": "[encoded data removed]",
      "text/plain": [
       "<Figure size 640x480 with 1 Axes>"
      ]
     },
     "metadata": {},
     "output_type": "display_data"
    }
   ],
   "source": [
    "from sklearn.ensemble import RandomForestRegressor\n",
    "rfr1 = RandomForestRegressor(n_estimators=100)\n",
    "rfr1.fit(x_train, y_train)\n",
    "y_pred_rfr1 = rfr1.predict(x_test)\n",
    "print(\"model\\t\\t\\t\\t RMSE \\t\\t MSE \\t\\t MAE \\t\\t R2\")\n",
    "print(\"\"\"RandomForestRegressor \\t {:.2f} \\t\\t {:.2f} \\t\\t {:.2f} \\t\\t {:.2f}\"\"\".format(\n",
    "    np.sqrt(mean_squared_error(y_test, y_pred_rfr1)),mean_squared_error(y_test,y_pred_rfr1),\n",
    "    mean_absolute_error(y_test,y_pred_rfr1),r2_score(y_test, y_pred_rfr1)))\n",
    "\n",
    "plt.scatter(y_test,y_pred_rfr1)\n",
    "plt.plot([y_test.min(),y_test.max()],[y_test.min(), y_test.max()], 'k--',lw = 2)\n",
    "plt.xlabel(\"predicted\")\n",
    "plt.ylabel(\"true\")\n",
    "plt.title(\"Random Forest Regressor\")\n",
    "plt.show()"
   ]
  },
  {
   "cell_type": "markdown",
   "id": "0f9127a1-a6e7-4139-bc0c-b57cb2b7a9fb",
   "metadata": {},
   "source": [
    "## OLS Model"
   ]
  },
  {
   "cell_type": "code",
   "execution_count": 12,
   "id": "230e6651-f541-4099-9bc3-46e6e23a7cfa",
   "metadata": {},
   "outputs": [
    {
     "name": "stdout",
     "output_type": "stream",
     "text": [
      "Intercept\" \n",
      " 320.0\n",
      "Coefficiens: \n",
      " [0. 0. 0. 0. 0. 0. 0. 0.]\n",
      "                            OLS Regression Results                            \n",
      "==============================================================================\n",
      "Dep. Variable:            CC_Strength   R-squared:                       0.615\n",
      "Model:                            OLS   Adj. R-squared:                  0.612\n",
      "Method:                 Least Squares   F-statistic:                     204.3\n",
      "Date:                Tue, 12 Dec 2023   Prob (F-statistic):          6.76e-206\n",
      "Time:                        18:59:46   Log-Likelihood:                -3869.0\n",
      "No. Observations:                1030   AIC:                             7756.\n",
      "Df Residuals:                    1021   BIC:                             7800.\n",
      "Df Model:                           8                                         \n",
      "Covariance Type:            nonrobust                                         \n",
      "====================================================================================\n",
      "                       coef    std err          t      P>|t|      [0.025      0.975]\n",
      "------------------------------------------------------------------------------------\n",
      "const              -23.1638     26.588     -0.871      0.384     -75.338      29.010\n",
      "Cement               0.1198      0.008     14.110      0.000       0.103       0.136\n",
      "BlastFurnaceSlag     0.1038      0.010     10.245      0.000       0.084       0.124\n",
      "FlyAsh               0.0879      0.013      6.988      0.000       0.063       0.113\n",
      "water               -0.1503      0.040     -3.741      0.000      -0.229      -0.071\n",
      "superplasticizer     0.2907      0.093      3.110      0.002       0.107       0.474\n",
      "coarseaggregate      0.0180      0.009      1.919      0.055      -0.000       0.036\n",
      "FineAggregate        0.0202      0.011      1.883      0.060      -0.001       0.041\n",
      "age                  0.1142      0.005     21.046      0.000       0.104       0.125\n",
      "==============================================================================\n",
      "Omnibus:                        5.379   Durbin-Watson:                   1.281\n",
      "Prob(Omnibus):                  0.068   Jarque-Bera (JB):                5.305\n",
      "Skew:                          -0.174   Prob(JB):                       0.0705\n",
      "Kurtosis:                       3.045   Cond. No.                     1.06e+05\n",
      "==============================================================================\n",
      "\n",
      "Notes:\n",
      "[1] Standard Errors assume that the covariance matrix of the errors is correctly specified.\n",
      "[2] The condition number is large, 1.06e+05. This might indicate that there are\n",
      "strong multicollinearity or other numerical problems.\n"
     ]
    }
   ],
   "source": [
    "x1 = df_1[['BlastFurnaceSlag','Cement','FlyAsh','coarseaggregate','FineAggregate','water','superplasticizer','age']]\n",
    "y1 = df_1['Cement']\n",
    "\n",
    "regr = linear_model.LinearRegression()\n",
    "regr.fit(x1,y1)\n",
    "\n",
    "print('Intercept\" \\n',regr.intercept_)\n",
    "print('Coefficiens: \\n', regr.coef_)\n",
    "\n",
    "new_water = 2.75\n",
    "new_age = 5.3\n",
    "x= sm.add_constant(x1)\n",
    "\n",
    "model = sm.OLS(y1,x1).fit()\n",
    "print(print_model)"
   ]
  },
  {
   "cell_type": "markdown",
   "id": "4f07dc2c-278c-4250-9865-c5fff50ead48",
   "metadata": {},
   "source": [
    "# Model relationship between input features and concrete compressive strength using 3 functions"
   ]
  },
  {
   "cell_type": "code",
   "execution_count": 13,
   "id": "fb65c576-412d-4abe-a4a2-3d816e6305cc",
   "metadata": {},
   "outputs": [
    {
     "name": "stdout",
     "output_type": "stream",
     "text": [
      "1    621.8546\n",
      "dtype: float64 1    6.432706\n",
      "dtype: float64 1    3470.532186\n",
      "dtype: float64\n"
     ]
    }
   ],
   "source": [
    "# Extract relevant columns from the DataFrame\n",
    "Cement = df_1['Cement']\n",
    "BlastFurnaceSlag = df_1['BlastFurnaceSlag']\n",
    "FlyAsh = df_1['FlyAsh']\n",
    "coarseaggregate = df_1['coarseaggregate']\n",
    "FineAggregate = df_1['FineAggregate']\n",
    "water = df_1['water']\n",
    "superplasticizer = df_1['superplasticizer']\n",
    "age = df_1['age']\n",
    "\n",
    "#Coefficient Initialization\n",
    "b0=320.0\n",
    "b1=0\n",
    "b2=0\n",
    "b3=0.1722\n",
    "b4=0.1509\n",
    "b5=0.0341\n",
    "b6=0\n",
    "b7=0.0012\n",
    "e1=b1\n",
    "e2=b2\n",
    "e3=b3\n",
    "e4=b4\n",
    "e5=b5\n",
    "e6=b6\n",
    "e7=b7\n",
    "\n",
    "import numpy\n",
    "import math\n",
    "\n",
    "CC_strength_df1 = b0+(b1*BlastFurnaceSlag)+(b2*FlyAsh)+(b3*coarseaggregate)+(b4*FineAggregate)+(b5*water)+(b6*superplasticizer)+(b7*age)\n",
    "\n",
    "log_strength_df1 = numpy.log(b0+b1*BlastFurnaceSlag+b2*FlyAsh+b3*coarseaggregate+b4*FineAggregate+b5*water+b6*superplasticizer+b7*age)\n",
    "\n",
    "power_strength_df1 = b0 * (BlastFurnaceSlag**e1*FlyAsh**e2*coarseaggregate**e3*FineAggregate**e4*water**e5*superplasticizer**e6*age**e7)\n",
    "\n",
    "print(CC_strength_df1, log_strength_df1, power_strength_df1)"
   ]
  },
  {
   "cell_type": "markdown",
   "id": "26955a86-87de-4ba7-a21a-2f00d0fbf980",
   "metadata": {},
   "source": [
    "# Model/DataFrame 2"
   ]
  },
  {
   "cell_type": "markdown",
   "id": "55bb8466-1d23-4e89-ab2b-986a42f8392c",
   "metadata": {},
   "source": [
    "## Run RFR then evaluate and show its predictions against actual data"
   ]
  },
  {
   "cell_type": "code",
   "execution_count": 14,
   "id": "a0756505-d7cb-4875-9118-3d644c69fc51",
   "metadata": {},
   "outputs": [
    {
     "name": "stdout",
     "output_type": "stream",
     "text": [
      "model\t\t\t\t RMSE \t\t MSE \t\t MAE \t\t R2\n",
      "RandomForestRegressor \t 9.69 \t\t 93.89 \t\t 4.77 \t\t 0.93\n"
     ]
    },
    {
     "data": {
      "image/png": "[encoded data removed]",
      "text/plain": [
       "<Figure size 640x480 with 1 Axes>"
      ]
     },
     "metadata": {},
     "output_type": "display_data"
    }
   ],
   "source": [
    "from sklearn.ensemble import RandomForestRegressor\n",
    "rfr2 = RandomForestRegressor(n_estimators=100)\n",
    "rfr2.fit(x_train, y_train)\n",
    "y_pred_rfr2 = rfr1.predict(x_test)\n",
    "print(\"model\\t\\t\\t\\t RMSE \\t\\t MSE \\t\\t MAE \\t\\t R2\")\n",
    "print(\"\"\"RandomForestRegressor \\t {:.2f} \\t\\t {:.2f} \\t\\t {:.2f} \\t\\t {:.2f}\"\"\".format(\n",
    "    np.sqrt(mean_squared_error(y_test, y_pred_rfr2)),mean_squared_error(y_test,y_pred_rfr2),\n",
    "    mean_absolute_error(y_test,y_pred_rfr2),r2_score(y_test, y_pred_rfr2)))\n",
    "\n",
    "plt.scatter(y_test,y_pred_rfr2)\n",
    "plt.plot([y_test.min(),y_test.max()],[y_test.min(), y_test.max()], 'k--',lw = 2)\n",
    "plt.xlabel(\"predicted\")\n",
    "plt.ylabel(\"true\")\n",
    "plt.title(\"Random Forest Regressor\")\n",
    "plt.show()"
   ]
  },
  {
   "cell_type": "markdown",
   "id": "e752db5c-2ad5-4942-8bf4-f17d60956cb3",
   "metadata": {
    "tags": []
   },
   "source": [
    "## OLS Model"
   ]
  },
  {
   "cell_type": "code",
   "execution_count": 15,
   "id": "00f45f8d-33a6-496b-9bfa-8f2cba83a9f2",
   "metadata": {},
   "outputs": [
    {
     "name": "stdout",
     "output_type": "stream",
     "text": [
      "Intercept\" \n",
      " 320.0\n",
      "Coefficiens: \n",
      " [0. 0. 0. 0. 0. 0. 0. 0.]\n",
      "                            OLS Regression Results                            \n",
      "==============================================================================\n",
      "Dep. Variable:            CC_Strength   R-squared:                       0.615\n",
      "Model:                            OLS   Adj. R-squared:                  0.612\n",
      "Method:                 Least Squares   F-statistic:                     204.3\n",
      "Date:                Tue, 12 Dec 2023   Prob (F-statistic):          6.76e-206\n",
      "Time:                        18:59:46   Log-Likelihood:                -3869.0\n",
      "No. Observations:                1030   AIC:                             7756.\n",
      "Df Residuals:                    1021   BIC:                             7800.\n",
      "Df Model:                           8                                         \n",
      "Covariance Type:            nonrobust                                         \n",
      "====================================================================================\n",
      "                       coef    std err          t      P>|t|      [0.025      0.975]\n",
      "------------------------------------------------------------------------------------\n",
      "const              -23.1638     26.588     -0.871      0.384     -75.338      29.010\n",
      "Cement               0.1198      0.008     14.110      0.000       0.103       0.136\n",
      "BlastFurnaceSlag     0.1038      0.010     10.245      0.000       0.084       0.124\n",
      "FlyAsh               0.0879      0.013      6.988      0.000       0.063       0.113\n",
      "water               -0.1503      0.040     -3.741      0.000      -0.229      -0.071\n",
      "superplasticizer     0.2907      0.093      3.110      0.002       0.107       0.474\n",
      "coarseaggregate      0.0180      0.009      1.919      0.055      -0.000       0.036\n",
      "FineAggregate        0.0202      0.011      1.883      0.060      -0.001       0.041\n",
      "age                  0.1142      0.005     21.046      0.000       0.104       0.125\n",
      "==============================================================================\n",
      "Omnibus:                        5.379   Durbin-Watson:                   1.281\n",
      "Prob(Omnibus):                  0.068   Jarque-Bera (JB):                5.305\n",
      "Skew:                          -0.174   Prob(JB):                       0.0705\n",
      "Kurtosis:                       3.045   Cond. No.                     1.06e+05\n",
      "==============================================================================\n",
      "\n",
      "Notes:\n",
      "[1] Standard Errors assume that the covariance matrix of the errors is correctly specified.\n",
      "[2] The condition number is large, 1.06e+05. This might indicate that there are\n",
      "strong multicollinearity or other numerical problems.\n"
     ]
    }
   ],
   "source": [
    "x1 = df_2[['BlastFurnaceSlag','Cement','FlyAsh','coarseaggregate','FineAggregate','water','superplasticizer','age']]\n",
    "y1 = df_2['Cement']\n",
    "\n",
    "regr = linear_model.LinearRegression()\n",
    "regr.fit(x1,y1)\n",
    "\n",
    "print('Intercept\" \\n',regr.intercept_)\n",
    "print('Coefficiens: \\n', regr.coef_)\n",
    "\n",
    "new_water = 2.75\n",
    "new_age = 5.3\n",
    "x= sm.add_constant(x1)\n",
    "\n",
    "model0 = sm.OLS(y1,x1).fit()\n",
    "print(print_model)"
   ]
  },
  {
   "cell_type": "markdown",
   "id": "cecde7af-282d-41f1-8bcf-8f77f4e280e8",
   "metadata": {},
   "source": [
    "## Model relationship between input features and concrete compressive strength using 3 functions "
   ]
  },
  {
   "cell_type": "code",
   "execution_count": 16,
   "id": "8cd77c79-9c9b-4a89-b3ce-4b5a22c5538e",
   "metadata": {},
   "outputs": [
    {
     "name": "stdout",
     "output_type": "stream",
     "text": [
      "2    333.58968\n",
      "dtype: float64 2    5.809912\n",
      "dtype: float64 2    0.0\n",
      "dtype: float64\n"
     ]
    }
   ],
   "source": [
    "Cement = df_2['Cement']\n",
    "BlastFurnaceSlag = df_2['BlastFurnaceSlag']\n",
    "FlyAsh = df_2['FlyAsh']\n",
    "coarseaggregate = df_2['coarseaggregate']\n",
    "FineAggregate = df_2['FineAggregate']\n",
    "water = df_2['water']\n",
    "superplasticizer = df_2['superplasticizer']\n",
    "age = df_2['age']\n",
    "\n",
    "b0=175.0\n",
    "b1=0.0013\n",
    "b2=0.0166\n",
    "b3=0.0963\n",
    "b4=0.0824\n",
    "b5=0.0150\n",
    "b6=0.0004\n",
    "b7=0.0003\n",
    "e1=b1\n",
    "e2=b2\n",
    "e3=b3\n",
    "e4=b4\n",
    "e5=b5\n",
    "e6=b6\n",
    "e7=b7\n",
    "\n",
    "#Calculations\n",
    "import numpy\n",
    "import math\n",
    "\n",
    "CC_strength_df2 = b0+(b1*BlastFurnaceSlag)+(b2*FlyAsh)+(b3*coarseaggregate)+(b4*FineAggregate)+(b5*water)+(b6*superplasticizer)+(b7*age)\n",
    "\n",
    "log_strength_df2 = numpy.log(b0+b1*BlastFurnaceSlag+b2*FlyAsh+b3*coarseaggregate+b4*FineAggregate+b5*water+b6*superplasticizer+b7*age)\n",
    "\n",
    "power_strength_df2 = b0 * (BlastFurnaceSlag**e1*FlyAsh**e2*coarseaggregate**e3*FineAggregate**e4*water**e5*superplasticizer**e6*age**e7)\n",
    "\n",
    "print(CC_strength_df2,log_strength_df2,power_strength_df2)"
   ]
  },
  {
   "cell_type": "markdown",
   "id": "1f79fe3a-f252-4e3e-922a-3650fd6a5f9d",
   "metadata": {},
   "source": [
    "# Model 3"
   ]
  },
  {
   "cell_type": "code",
   "execution_count": 17,
   "id": "f8657c93-58bb-4404-bf37-49a2d30aaebf",
   "metadata": {},
   "outputs": [
    {
     "data": {
      "text/html": [
       "<div>\n",
       "<style scoped>\n",
       "    .dataframe tbody tr th:only-of-type {\n",
       "        vertical-align: middle;\n",
       "    }\n",
       "\n",
       "    .dataframe tbody tr th {\n",
       "        vertical-align: top;\n",
       "    }\n",
       "\n",
       "    .dataframe thead th {\n",
       "        text-align: right;\n",
       "    }\n",
       "</style>\n",
       "<table border=\"1\" class=\"dataframe\">\n",
       "  <thead>\n",
       "    <tr style=\"text-align: right;\">\n",
       "      <th></th>\n",
       "      <th>Cement</th>\n",
       "      <th>BlastFurnaceSlag</th>\n",
       "      <th>FlyAsh</th>\n",
       "      <th>coarseaggregate</th>\n",
       "      <th>FineAggregate</th>\n",
       "      <th>water</th>\n",
       "      <th>superplasticizer</th>\n",
       "      <th>age</th>\n",
       "    </tr>\n",
       "  </thead>\n",
       "  <tbody>\n",
       "    <tr>\n",
       "      <th>3</th>\n",
       "      <td>320.0</td>\n",
       "      <td>73.0</td>\n",
       "      <td>54.0</td>\n",
       "      <td>972.0</td>\n",
       "      <td>773.0</td>\n",
       "      <td>181.0</td>\n",
       "      <td>6.0</td>\n",
       "      <td>45.0</td>\n",
       "    </tr>\n",
       "  </tbody>\n",
       "</table>\n",
       "</div>"
      ],
      "text/plain": [
       "   Cement  BlastFurnaceSlag  FlyAsh  coarseaggregate  FineAggregate  water  \\\n",
       "3   320.0              73.0    54.0            972.0          773.0  181.0   \n",
       "\n",
       "   superplasticizer   age  \n",
       "3               6.0  45.0  "
      ]
     },
     "execution_count": 17,
     "metadata": {},
     "output_type": "execute_result"
    }
   ],
   "source": [
    "df_3.head()"
   ]
  },
  {
   "cell_type": "markdown",
   "id": "7af63f32-ebda-4771-8aea-1564f1df69e6",
   "metadata": {},
   "source": [
    "## Run RFR then evaluate and show its predictions against actual data\n"
   ]
  },
  {
   "cell_type": "code",
   "execution_count": 18,
   "id": "8e4da956-6ecd-4500-9fbf-320cea4961ea",
   "metadata": {},
   "outputs": [
    {
     "name": "stdout",
     "output_type": "stream",
     "text": [
      "model\t\t\t\t RMSE \t\t MSE \t\t MAE \t\t R2\n",
      "RandomForestRegressor \t 9.59 \t\t 91.89 \t\t 4.70 \t\t 0.93\n"
     ]
    },
    {
     "data": {
      "image/png": "[encoded data removed]",
      "text/plain": [
       "<Figure size 640x480 with 1 Axes>"
      ]
     },
     "metadata": {},
     "output_type": "display_data"
    }
   ],
   "source": [
    "from sklearn.ensemble import RandomForestRegressor\n",
    "rfr3 = RandomForestRegressor(n_estimators=100)\n",
    "rfr3.fit(x_train, y_train)\n",
    "y_pred_rfr3 = rfr3.predict(x_test)\n",
    "print(\"model\\t\\t\\t\\t RMSE \\t\\t MSE \\t\\t MAE \\t\\t R2\")\n",
    "print(\"\"\"RandomForestRegressor \\t {:.2f} \\t\\t {:.2f} \\t\\t {:.2f} \\t\\t {:.2f}\"\"\".format(\n",
    "    np.sqrt(mean_squared_error(y_test, y_pred_rfr3)),mean_squared_error(y_test,y_pred_rfr3),\n",
    "    mean_absolute_error(y_test,y_pred_rfr3),r2_score(y_test, y_pred_rfr3)))\n",
    "\n",
    "plt.scatter(y_test,y_pred_rfr3)\n",
    "plt.plot([y_test.min(),y_test.max()],[y_test.min(), y_test.max()], 'k--',lw = 2)\n",
    "plt.xlabel(\"predicted\")\n",
    "plt.ylabel(\"true\")\n",
    "plt.title(\"Random Forest Regressor\")\n",
    "plt.show()"
   ]
  },
  {
   "cell_type": "markdown",
   "id": "408a13dd-0ea7-4bd3-ade0-898460e04fab",
   "metadata": {},
   "source": [
    "## OLS Model"
   ]
  },
  {
   "cell_type": "code",
   "execution_count": 19,
   "id": "7cc38023-38c8-46e4-b86e-bca85278d429",
   "metadata": {},
   "outputs": [
    {
     "name": "stdout",
     "output_type": "stream",
     "text": [
      "Intercept\" \n",
      " 320.0\n",
      "Coefficiens: \n",
      " [0. 0. 0. 0. 0. 0. 0. 0.]\n",
      "                            OLS Regression Results                            \n",
      "==============================================================================\n",
      "Dep. Variable:            CC_Strength   R-squared:                       0.615\n",
      "Model:                            OLS   Adj. R-squared:                  0.612\n",
      "Method:                 Least Squares   F-statistic:                     204.3\n",
      "Date:                Tue, 12 Dec 2023   Prob (F-statistic):          6.76e-206\n",
      "Time:                        18:59:46   Log-Likelihood:                -3869.0\n",
      "No. Observations:                1030   AIC:                             7756.\n",
      "Df Residuals:                    1021   BIC:                             7800.\n",
      "Df Model:                           8                                         \n",
      "Covariance Type:            nonrobust                                         \n",
      "====================================================================================\n",
      "                       coef    std err          t      P>|t|      [0.025      0.975]\n",
      "------------------------------------------------------------------------------------\n",
      "const              -23.1638     26.588     -0.871      0.384     -75.338      29.010\n",
      "Cement               0.1198      0.008     14.110      0.000       0.103       0.136\n",
      "BlastFurnaceSlag     0.1038      0.010     10.245      0.000       0.084       0.124\n",
      "FlyAsh               0.0879      0.013      6.988      0.000       0.063       0.113\n",
      "water               -0.1503      0.040     -3.741      0.000      -0.229      -0.071\n",
      "superplasticizer     0.2907      0.093      3.110      0.002       0.107       0.474\n",
      "coarseaggregate      0.0180      0.009      1.919      0.055      -0.000       0.036\n",
      "FineAggregate        0.0202      0.011      1.883      0.060      -0.001       0.041\n",
      "age                  0.1142      0.005     21.046      0.000       0.104       0.125\n",
      "==============================================================================\n",
      "Omnibus:                        5.379   Durbin-Watson:                   1.281\n",
      "Prob(Omnibus):                  0.068   Jarque-Bera (JB):                5.305\n",
      "Skew:                          -0.174   Prob(JB):                       0.0705\n",
      "Kurtosis:                       3.045   Cond. No.                     1.06e+05\n",
      "==============================================================================\n",
      "\n",
      "Notes:\n",
      "[1] Standard Errors assume that the covariance matrix of the errors is correctly specified.\n",
      "[2] The condition number is large, 1.06e+05. This might indicate that there are\n",
      "strong multicollinearity or other numerical problems.\n"
     ]
    }
   ],
   "source": [
    "x1 = df_3[['BlastFurnaceSlag','Cement','FlyAsh','coarseaggregate','FineAggregate','water','superplasticizer','age']]\n",
    "y1 = df_3['Cement']\n",
    "\n",
    "regr = linear_model.LinearRegression()\n",
    "regr.fit(x1,y1)\n",
    "\n",
    "print('Intercept\" \\n',regr.intercept_)\n",
    "print('Coefficiens: \\n', regr.coef_)\n",
    "\n",
    "new_water = 2.75\n",
    "new_age = 5.3\n",
    "#print('predicted cement: \\n', regr.predict([['Cement','BlastFurnaceSlag','FlyAsh','water','superplasticizer','coarseaggregate','FineAggregate','age']])\n",
    "x= sm.add_constant(x1)\n",
    "\n",
    "model0 = sm.OLS(y1,x1).fit()\n",
    "#predictions = model0.summary()\n",
    "#print_model = model0. summary ()\n",
    "print(print_model)"
   ]
  },
  {
   "cell_type": "markdown",
   "id": "11552283-b2bf-4599-9594-ada5a4907151",
   "metadata": {},
   "source": [
    "## Model relationship between input features and concrete compressive strength using 3 functions "
   ]
  },
  {
   "cell_type": "code",
   "execution_count": 30,
   "id": "26126355-59c4-4343-9285-abafabca92da",
   "metadata": {},
   "outputs": [
    {
     "name": "stdout",
     "output_type": "stream",
     "text": [
      "3    336.021\n",
      "dtype: float64 3    5.817174\n",
      "dtype: float64 3    683.264346\n",
      "dtype: float64\n"
     ]
    }
   ],
   "source": [
    "Cement = df_3['Cement']\n",
    "BlastFurnaceSlag = df_3['BlastFurnaceSlag']\n",
    "FlyAsh = df_3['FlyAsh']\n",
    "coarseaggregate = df_3['coarseaggregate']\n",
    "FineAggregate = df_3['FineAggregate']\n",
    "water = df_3['water']\n",
    "superplasticizer = df_3['superplasticizer']\n",
    "age = df_3['age']\n",
    "\n",
    "b0=175.0\n",
    "b1=0.0013\n",
    "b2=0.0166\n",
    "b3=0.0963\n",
    "b4=0.0824\n",
    "b5=0.0150\n",
    "b6=0.0004\n",
    "b7=0.0003\n",
    "e1=b1\n",
    "e2=b2\n",
    "e3=b3\n",
    "e4=b4\n",
    "e5=b5\n",
    "e6=b6\n",
    "e7=b7\n",
    "\n",
    "# Calculations \n",
    "import numpy\n",
    "import math\n",
    "\n",
    "CC_strength_df3 = b0+(b1*BlastFurnaceSlag)+(b2*FlyAsh)+(b3*coarseaggregate)+(b4*FineAggregate)+(b5*water)+(b6*superplasticizer)+(b7*age)\n",
    "\n",
    "log_strength_df3 = numpy.log(b0+b1*BlastFurnaceSlag+b2*FlyAsh+b3*coarseaggregate+b4*FineAggregate+b5*water+b6*superplasticizer+b7*age)\n",
    "\n",
    "power_strength_df3 = b0 * (BlastFurnaceSlag**e1*FlyAsh**e2*coarseaggregate**e3*FineAggregate**e4*water**e5*superplasticizer**e6*age**e7)\n",
    "\n",
    "print(CC_strength_df3,log_strength_df3,power_strength_df3)"
   ]
  },
  {
   "cell_type": "markdown",
   "id": "23af67a8-706d-4b3f-ad3d-961e4abfdd17",
   "metadata": {},
   "source": [
    "# Model 4"
   ]
  },
  {
   "cell_type": "code",
   "execution_count": 22,
   "id": "d2ab8146-a413-44b2-97de-4fc61f3c2123",
   "metadata": {},
   "outputs": [
    {
     "data": {
      "text/html": [
       "<div>\n",
       "<style scoped>\n",
       "    .dataframe tbody tr th:only-of-type {\n",
       "        vertical-align: middle;\n",
       "    }\n",
       "\n",
       "    .dataframe tbody tr th {\n",
       "        vertical-align: top;\n",
       "    }\n",
       "\n",
       "    .dataframe thead th {\n",
       "        text-align: right;\n",
       "    }\n",
       "</style>\n",
       "<table border=\"1\" class=\"dataframe\">\n",
       "  <thead>\n",
       "    <tr style=\"text-align: right;\">\n",
       "      <th></th>\n",
       "      <th>Cement</th>\n",
       "      <th>BlastFurnaceSlag</th>\n",
       "      <th>FlyAsh</th>\n",
       "      <th>coarseaggregate</th>\n",
       "      <th>FineAggregate</th>\n",
       "      <th>water</th>\n",
       "      <th>superplasticizer</th>\n",
       "      <th>age</th>\n",
       "    </tr>\n",
       "  </thead>\n",
       "  <tbody>\n",
       "    <tr>\n",
       "      <th>4</th>\n",
       "      <td>530.0</td>\n",
       "      <td>359.0</td>\n",
       "      <td>200.0</td>\n",
       "      <td>1145.0</td>\n",
       "      <td>992.0</td>\n",
       "      <td>247.0</td>\n",
       "      <td>32.0</td>\n",
       "      <td>365.0</td>\n",
       "    </tr>\n",
       "  </tbody>\n",
       "</table>\n",
       "</div>"
      ],
      "text/plain": [
       "   Cement  BlastFurnaceSlag  FlyAsh  coarseaggregate  FineAggregate  water  \\\n",
       "4   530.0             359.0   200.0           1145.0          992.0  247.0   \n",
       "\n",
       "   superplasticizer    age  \n",
       "4              32.0  365.0  "
      ]
     },
     "execution_count": 22,
     "metadata": {},
     "output_type": "execute_result"
    }
   ],
   "source": [
    "df_4.head()"
   ]
  },
  {
   "cell_type": "markdown",
   "id": "b73ee157-2935-42c3-b433-2803c928abb7",
   "metadata": {},
   "source": [
    "## Run RFR then evaluate and show its predictions against actual data"
   ]
  },
  {
   "cell_type": "code",
   "execution_count": 23,
   "id": "e6429bd6-eae6-4b26-a546-2cb4fa29aad4",
   "metadata": {},
   "outputs": [
    {
     "name": "stdout",
     "output_type": "stream",
     "text": [
      "model\t\t\t\t RMSE \t\t MSE \t\t MAE \t\t R2\n",
      "RandomForestRegressor \t 9.67 \t\t 93.57 \t\t 4.76 \t\t 0.93\n"
     ]
    },
    {
     "data": {
      "image/png": "[encoded data removed]",
      "text/plain": [
       "<Figure size 640x480 with 1 Axes>"
      ]
     },
     "metadata": {},
     "output_type": "display_data"
    }
   ],
   "source": [
    "from sklearn.ensemble import RandomForestRegressor\n",
    "rfr4 = RandomForestRegressor(n_estimators=100)\n",
    "rfr4.fit(x_train, y_train)\n",
    "y_pred_rfr4 = rfr4.predict(x_test)\n",
    "print(\"model\\t\\t\\t\\t RMSE \\t\\t MSE \\t\\t MAE \\t\\t R2\")\n",
    "print(\"\"\"RandomForestRegressor \\t {:.2f} \\t\\t {:.2f} \\t\\t {:.2f} \\t\\t {:.2f}\"\"\".format(\n",
    "    np.sqrt(mean_squared_error(y_test, y_pred_rfr4)),mean_squared_error(y_test,y_pred_rfr4),\n",
    "    mean_absolute_error(y_test,y_pred_rfr4),r2_score(y_test, y_pred_rfr4)))\n",
    "\n",
    "plt.scatter(y_test,y_pred_rfr4)\n",
    "plt.plot([y_test.min(),y_test.max()],[y_test.min(), y_test.max()], 'k--',lw = 2)\n",
    "plt.xlabel(\"predicted\")\n",
    "plt.ylabel(\"true\")\n",
    "plt.title(\"Random Forest Regressor\")\n",
    "plt.show()"
   ]
  },
  {
   "cell_type": "markdown",
   "id": "f7e68afd-1d85-4d87-95f5-41b4de189778",
   "metadata": {},
   "source": [
    "## OLS Model"
   ]
  },
  {
   "cell_type": "code",
   "execution_count": 24,
   "id": "9085ebb1-d512-4b62-8dd5-0018cf46d418",
   "metadata": {},
   "outputs": [
    {
     "name": "stdout",
     "output_type": "stream",
     "text": [
      "Intercept\" \n",
      " 530.0\n",
      "Coefficiens: \n",
      " [0. 0. 0. 0. 0. 0. 0. 0.]\n",
      "                            OLS Regression Results                            \n",
      "==============================================================================\n",
      "Dep. Variable:            CC_Strength   R-squared:                       0.615\n",
      "Model:                            OLS   Adj. R-squared:                  0.612\n",
      "Method:                 Least Squares   F-statistic:                     204.3\n",
      "Date:                Tue, 12 Dec 2023   Prob (F-statistic):          6.76e-206\n",
      "Time:                        18:59:46   Log-Likelihood:                -3869.0\n",
      "No. Observations:                1030   AIC:                             7756.\n",
      "Df Residuals:                    1021   BIC:                             7800.\n",
      "Df Model:                           8                                         \n",
      "Covariance Type:            nonrobust                                         \n",
      "====================================================================================\n",
      "                       coef    std err          t      P>|t|      [0.025      0.975]\n",
      "------------------------------------------------------------------------------------\n",
      "const              -23.1638     26.588     -0.871      0.384     -75.338      29.010\n",
      "Cement               0.1198      0.008     14.110      0.000       0.103       0.136\n",
      "BlastFurnaceSlag     0.1038      0.010     10.245      0.000       0.084       0.124\n",
      "FlyAsh               0.0879      0.013      6.988      0.000       0.063       0.113\n",
      "water               -0.1503      0.040     -3.741      0.000      -0.229      -0.071\n",
      "superplasticizer     0.2907      0.093      3.110      0.002       0.107       0.474\n",
      "coarseaggregate      0.0180      0.009      1.919      0.055      -0.000       0.036\n",
      "FineAggregate        0.0202      0.011      1.883      0.060      -0.001       0.041\n",
      "age                  0.1142      0.005     21.046      0.000       0.104       0.125\n",
      "==============================================================================\n",
      "Omnibus:                        5.379   Durbin-Watson:                   1.281\n",
      "Prob(Omnibus):                  0.068   Jarque-Bera (JB):                5.305\n",
      "Skew:                          -0.174   Prob(JB):                       0.0705\n",
      "Kurtosis:                       3.045   Cond. No.                     1.06e+05\n",
      "==============================================================================\n",
      "\n",
      "Notes:\n",
      "[1] Standard Errors assume that the covariance matrix of the errors is correctly specified.\n",
      "[2] The condition number is large, 1.06e+05. This might indicate that there are\n",
      "strong multicollinearity or other numerical problems.\n"
     ]
    }
   ],
   "source": [
    "x1 = df_4[['BlastFurnaceSlag','Cement','FlyAsh','coarseaggregate','FineAggregate','water','superplasticizer','age']]\n",
    "y1 = df_4['Cement']\n",
    "\n",
    "regr = linear_model.LinearRegression()\n",
    "regr.fit(x1,y1)\n",
    "\n",
    "print('Intercept\" \\n',regr.intercept_)\n",
    "print('Coefficiens: \\n', regr.coef_)\n",
    "\n",
    "new_water = 2.75\n",
    "new_age = 5.3\n",
    "x= sm.add_constant(x1)\n",
    "\n",
    "model0 = sm.OLS(y1,x1).fit()\n",
    "print(print_model)"
   ]
  },
  {
   "cell_type": "markdown",
   "id": "ddffd18f-9924-4a45-bae8-9a900bd31139",
   "metadata": {
    "tags": []
   },
   "source": [
    "## Model relationship between input features and concrete compressive strength using 3 functions "
   ]
  },
  {
   "cell_type": "code",
   "execution_count": 32,
   "id": "b590a870-ebe5-4332-a96d-be6eabd6ab90",
   "metadata": {},
   "outputs": [
    {
     "name": "stdout",
     "output_type": "stream",
     "text": [
      "4    374.6183\n",
      "dtype: float64 4    5.925908\n",
      "dtype: float64 4    729.950653\n",
      "dtype: float64\n"
     ]
    }
   ],
   "source": [
    "Cement = df_4['Cement']\n",
    "BlastFurnaceSlag = df_4['BlastFurnaceSlag']\n",
    "FlyAsh = df_4['FlyAsh']\n",
    "coarseaggregate = df_4['coarseaggregate']\n",
    "FineAggregate = df_4['FineAggregate']\n",
    "water = df_4['water']\n",
    "superplasticizer = df_4['superplasticizer']\n",
    "age = df_4['age']\n",
    "\n",
    "b0=175.0\n",
    "b1=0.0013\n",
    "b2=0.0166\n",
    "b3=0.0963\n",
    "b4=0.0824\n",
    "b5=0.0150\n",
    "b6=0.0004\n",
    "b7=0.0003\n",
    "e1=b1\n",
    "e2=b2\n",
    "e3=b3\n",
    "e4=b4\n",
    "e5=b5\n",
    "e6=b6\n",
    "e7=b7\n",
    "\n",
    "import numpy\n",
    "import math\n",
    "\n",
    "CC_strength_df4 = b0+(b1*BlastFurnaceSlag)+(b2*FlyAsh)+(b3*coarseaggregate)+(b4*FineAggregate)+(b5*water)+(b6*superplasticizer)+(b7*age)\n",
    "\n",
    "log_strength_df4 = numpy.log(b0+b1*BlastFurnaceSlag+b2*FlyAsh+b3*coarseaggregate+b4*FineAggregate+b5*water+b6*superplasticizer+b7*age)\n",
    "\n",
    "power_strength_df4 = b0 * (BlastFurnaceSlag**e1*FlyAsh**e2*coarseaggregate**e3*FineAggregate**e4*water**e5*superplasticizer**e6*age**e7)\n",
    "\n",
    "print(CC_strength_df4,log_strength_df4,power_strength_df4)"
   ]
  },
  {
   "cell_type": "markdown",
   "id": "53ee28b0-8a28-4bb5-900c-5c0ceafd24d7",
   "metadata": {},
   "source": [
    "# Summary\n",
    "## Root mean square deviation chart(between models 0-4)"
   ]
  },
  {
   "cell_type": "code",
   "execution_count": 27,
   "id": "30f90030-a0ac-40d0-834f-096a7af6339a",
   "metadata": {},
   "outputs": [
    {
     "data": {
      "image/png": "[encoded data removed]",
      "text/plain": [
       "<Figure size 1000x700 with 1 Axes>"
      ]
     },
     "metadata": {},
     "output_type": "display_data"
    }
   ],
   "source": [
    "models = [rfr0,rfr1,rfr2,rfr3,rfr4]\n",
    "names = [\"random forest regression 1\",\"random forest regression 2\",\"random forest regression 3\",\"random forest regression 4\",\"random forest regression 5\"]\n",
    "rmses = []\n",
    "for model in models:\n",
    "    rmses.append(np.sqrt(mean_squared_error(y_test, model.predict(x_test))))\n",
    "    \n",
    "x = np.arange(len(names))\n",
    "width = 0.3\n",
    "\n",
    "fig, ax = plt.subplots(figsize = (10,7))\n",
    "rects = ax.bar(x, rmses,width)\n",
    "ax.set_ylabel('RMSE')\n",
    "ax.set_xlabel('Models')\n",
    "ax.set_title('RMSE with different algorithms')\n",
    "ax.set_xticks(x)\n",
    "ax.set_xticklabels(names, rotation = 45)\n",
    "fig.tight_layout()\n",
    "plt.show()"
   ]
  },
  {
   "cell_type": "markdown",
   "id": "f968e5da-f273-4edb-a7d1-9472153b1c47",
   "metadata": {},
   "source": [
    "# Strength Results through 3 different formulas\n"
   ]
  },
  {
   "cell_type": "code",
   "execution_count": 28,
   "id": "94e69d24-9bbe-4ec3-b707-23a3ab9e8bf2",
   "metadata": {},
   "outputs": [
    {
     "name": "stdout",
     "output_type": "stream",
     "text": [
      "the linear equation projected concrete strength for 5 possible mixtures is: 0    347.049\n",
      "dtype: float64 1    621.8546\n",
      "dtype: float64 2    333.58968\n",
      "dtype: float64 3    336.021\n",
      "dtype: float64 4    374.6183\n",
      "dtype: float64\n",
      "the logression equation projected concrete strength for 5 possible mixtures is 0    5.849466\n",
      "dtype: float64 1    6.432706\n",
      "dtype: float64 2    5.809912\n",
      "dtype: float64 3    5.817174\n",
      "dtype: float64 4    5.925908\n",
      "dtype: float64\n",
      "the power law equation projected concrete strength for 5 possible mixtures is 0    700.507218\n",
      "dtype: float64 1    3470.532186\n",
      "dtype: float64 2    0.0\n",
      "dtype: float64 3    683.264346\n",
      "dtype: float64 4    729.950653\n",
      "dtype: float64\n"
     ]
    }
   ],
   "source": [
    "print(\"the linear equation projected concrete strength for 5 possible mixtures is:\", \n",
    "      CC_strength_df0, CC_strength_df1, CC_strength_df2, CC_strength_df3, CC_strength_df4)\n",
    "print(\"the logression equation projected concrete strength for 5 possible mixtures is\", \n",
    "      log_strength_df0,log_strength_df1,log_strength_df2,log_strength_df3,log_strength_df4)\n",
    "print(\"the power law equation projected concrete strength for 5 possible mixtures is\", \n",
    "      power_strength_df0,power_strength_df1,power_strength_df2,power_strength_df3,power_strength_df4)"
   ]
  },
  {
   "cell_type": "markdown",
   "id": "374033da-1042-4358-8763-12d5476543b9",
   "metadata": {},
   "source": [
    "### Taking all of this information gives us the following overall strength results(rounded to nearest whole number):\n",
    "\n",
    "- model 0 - 347\n",
    "- model 1 - 622\n",
    "- model 2 - 334\n",
    "- model 3 - 336\n",
    "- model 4 - 375\n",
    "\n",
    "therefore, we can assume that concrete mixture 1 has the highest predicted strength."
   ]
  }
 ],
 "metadata": {
  "kernelspec": {
   "display_name": "Python 3 (ipykernel)",
   "language": "python",
   "name": "python3"
  },
  "language_info": {
   "codemirror_mode": {
    "name": "ipython",
    "version": 3
   },
   "file_extension": ".py",
   "mimetype": "text/x-python",
   "name": "python",
   "nbconvert_exporter": "python",
   "pygments_lexer": "ipython3",
   "version": "3.11.4"
  }
 },
 "nbformat": 4,
 "nbformat_minor": 5
}
